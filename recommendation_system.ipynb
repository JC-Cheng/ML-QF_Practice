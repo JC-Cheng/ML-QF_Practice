{
 "cells": [
  {
   "cell_type": "markdown",
   "metadata": {},
   "source": [
    "# Recommendation System"
   ]
  },
  {
   "cell_type": "code",
   "execution_count": 1,
   "metadata": {
    "collapsed": true
   },
   "outputs": [],
   "source": [
    "import numpy as np\n",
    "import pandas as pd\n",
    "import tensorflow as tf\n",
    "import matplotlib.pyplot as plt\n",
    "from sklearn.decomposition import TruncatedSVD\n",
    "\n",
    "%matplotlib inline"
   ]
  },
  {
   "cell_type": "markdown",
   "metadata": {},
   "source": [
    "## 1. Build Utility Matrix from data\n",
    "\n",
    "Data Source: [GroupLens: MovieLens](https://grouplens.org/datasets/movielens/100k/)"
   ]
  },
  {
   "cell_type": "code",
   "execution_count": 2,
   "metadata": {
    "collapsed": true
   },
   "outputs": [],
   "source": [
    "col_names = ['user_id', 'movie_id', 'rating', 'timestamp']\n",
    "movie_rating = pd.read_csv('http://files.grouplens.org/datasets/movielens/ml-100k/u.data', \n",
    "                           sep='\\t', names=col_names)"
   ]
  },
  {
   "cell_type": "code",
   "execution_count": 3,
   "metadata": {
    "collapsed": true
   },
   "outputs": [],
   "source": [
    "col_names = ['movie_id', 'movie title', 'release date', 'video release date', 'IMDb URL', \n",
    "             'unknown', 'Action', 'Adventure', 'Animation', 'Childrens', 'Comedy', 'Crime', \n",
    "             'Documentary', 'Drama', 'Fantasy', 'Film-Noir', 'Horror', 'Musical', 'Mystery',\n",
    "             'Romance', 'Sci-Fi', 'Thriller', 'War', 'Western']\n",
    "\n",
    "movies = pd.read_csv('http://files.grouplens.org/datasets/movielens/ml-100k/u.item', \n",
    "                     sep='|', names=col_names, encoding='latin-1')"
   ]
  },
  {
   "cell_type": "code",
   "execution_count": 4,
   "metadata": {},
   "outputs": [
    {
     "data": {
      "text/plain": [
       "(1682, 943)"
      ]
     },
     "execution_count": 4,
     "metadata": {},
     "output_type": "execute_result"
    }
   ],
   "source": [
    "X = pd.pivot_table(movie_rating, values='rating', index='movie_id', columns='user_id')\n",
    "X.shape"
   ]
  },
  {
   "cell_type": "markdown",
   "metadata": {},
   "source": [
    "## 2. Truncated SVD:\n",
    "\n",
    "Replace n/a rating with 0, and then find the first 20 latent variables based on user's rating to represent key feature of each movie."
   ]
  },
  {
   "cell_type": "code",
   "execution_count": 5,
   "metadata": {
    "collapsed": true
   },
   "outputs": [],
   "source": [
    "tSVD = TruncatedSVD(n_components=20, n_iter=10, random_state=33)"
   ]
  },
  {
   "cell_type": "code",
   "execution_count": 6,
   "metadata": {},
   "outputs": [
    {
     "data": {
      "text/plain": [
       "(1682, 20)"
      ]
     },
     "execution_count": 6,
     "metadata": {},
     "output_type": "execute_result"
    }
   ],
   "source": [
    "t_X = tSVD.fit_transform(X.fillna(0))\n",
    "t_X.shape"
   ]
  },
  {
   "cell_type": "code",
   "execution_count": 7,
   "metadata": {
    "collapsed": true
   },
   "outputs": [],
   "source": [
    "corr = pd.DataFrame(np.corrcoef(t_X), index=X.index, columns=X.index)\n",
    "name_map = {idx: T for idx, T in movies[['movie_id', 'movie title']].values}\n",
    "\n",
    "def find_similiar_movies(movie_id, n=5):\n",
    "    \n",
    "    top_n = corr.loc[corr.index!=movie_id, movie_id].sort_values(ascending=False)[:n]\n",
    "    top_n_names = pd.Series({idx: name_map[idx] for idx in top_n.index})\n",
    "    \n",
    "    print('People who like \"%s\" also like:'%name_map[movie_id])\n",
    "    print(top_n_names.tolist())\n",
    "\n",
    "    return top_n"
   ]
  },
  {
   "cell_type": "code",
   "execution_count": 8,
   "metadata": {},
   "outputs": [
    {
     "name": "stdout",
     "output_type": "stream",
     "text": [
      "People who like \"Batman Returns (1992)\" also like:\n",
      "['GoldenEye (1995)', 'Batman Forever (1995)', 'Stargate (1994)', 'Batman (1989)', 'Demolition Man (1993)']\n"
     ]
    },
    {
     "data": {
      "text/plain": [
       "movie_id\n",
       "403    0.973221\n",
       "62     0.951129\n",
       "2      0.950907\n",
       "29     0.948130\n",
       "578    0.944055\n",
       "Name: 231, dtype: float64"
      ]
     },
     "execution_count": 8,
     "metadata": {},
     "output_type": "execute_result"
    }
   ],
   "source": [
    "find_similiar_movies(231)"
   ]
  },
  {
   "cell_type": "code",
   "execution_count": 9,
   "metadata": {},
   "outputs": [
    {
     "name": "stdout",
     "output_type": "stream",
     "text": [
      "People who like \"Stargate (1994)\" also like:\n",
      "['Star Trek VI: The Undiscovered Country (1991)', 'Batman Returns (1992)', 'Star Trek V: The Final Frontier (1989)', 'Waterworld (1995)', 'Conan the Barbarian (1981)']\n"
     ]
    },
    {
     "data": {
      "text/plain": [
       "movie_id\n",
       "450    0.958739\n",
       "231    0.951129\n",
       "227    0.947768\n",
       "554    0.946959\n",
       "679    0.942188\n",
       "Name: 62, dtype: float64"
      ]
     },
     "execution_count": 9,
     "metadata": {},
     "output_type": "execute_result"
    }
   ],
   "source": [
    "find_similiar_movies(62)"
   ]
  },
  {
   "cell_type": "markdown",
   "metadata": {},
   "source": [
    "## 3. Matrix Completion (collaborative filtering)\n",
    "\n",
    "Idea:\n",
    "\n",
    "$$X_{filled} \\sim L \\times U$$\n",
    "\n",
    "$L, U$ are low rank matrix. $L$ represents latent features for each movie and $U$ represents latent features for each user.\n",
    "\n",
    "Taking the bias (i.e. average rating per user and per movie) into account, we extend $L$ and $U$ by ones and the bias.\n",
    "\n",
    "\\begin{align}\n",
    "L_{ext} &= [L; b^{(movie)}; 1] \\\\\n",
    "U_{ext}^\\top &= [U^\\top; 1; b^{(user)}] \\\\\n",
    "\\end{align}\n",
    "\n",
    "The estimation for non-rated values is:\n",
    "\n",
    "$$Y_{i,j} = b^{(movie)}_i + b^{(user)}_j + L_i^\\top U_j$$\n",
    "\n",
    "Regularize by adding the term $\\|L\\|_F^2+\\|U\\|_F^2$. To prevent invalid prediction, penalize the prediction for every $Y_{i,j} > 5.5$ or $Y_{i,j} < -0.5 $. Finanally, the cost to minimize is:\n",
    "\n",
    "\n",
    "$$J = \\sum_{(i, j): observed} \\left( \\left(L_{ext}U_{ext}\\right)_{i,j}-X_{i,j} \\right)^2 \n",
    "+ \\lambda_1 \\left( \\|L\\|_F^2+\\|U\\|_F^2 \\right) \n",
    "+ \\lambda_2 \\sum_{(i, j): all} \\left(\\left(Y_{i,j} - 5.5\\right)_+ + \\left(-0.5 - Y_{i,j}\\right)_+\\right)$$"
   ]
  },
  {
   "cell_type": "code",
   "execution_count": 10,
   "metadata": {
    "collapsed": true
   },
   "outputs": [],
   "source": [
    "def matrix_completion(X, k, lamb, learning_rate=0.03, n_iter=5000):\n",
    "    \n",
    "    n_M, n_U = X.shape\n",
    "    moive_bias = np.nanmean(X, axis=1)\n",
    "    user_bias = np.nanmean(X, axis=0)\n",
    "    bias = np.nanmean(X)\n",
    "    \n",
    "    mask = np.where(~np.isnan(X).reshape(-1))[0]\n",
    "    \n",
    "    tf.reset_default_graph()\n",
    "    L = tf.Variable(tf.truncated_normal([n_M, k]), name=\"movies\")\n",
    "    U = tf.Variable(tf.truncated_normal([k, n_U]), name=\"users\")\n",
    "\n",
    "    L_ext = tf.concat([L, tf.convert_to_tensor(moive_bias.reshape(n_M, 1), dtype=tf.float32), tf.ones((n_M, 1))], \n",
    "                      axis=1, name='movie_ext')\n",
    "    U_ext = tf.concat([U, tf.ones((1, n_U)), tf.convert_to_tensor(user_bias.reshape(1, n_U), dtype=tf.float32)],\n",
    "                      axis=0, name='user_ext')\n",
    "\n",
    "    Y = tf.add(tf.matmul(L_ext, U_ext), bias, name='pred')\n",
    "    \n",
    "    diff = tf.reshape(tf.subtract(Y, X), [-1], name='diff')\n",
    "    diff_observed = tf.gather(diff, mask, name='diff_observed')\n",
    "    \n",
    "    accuracy = tf.reduce_mean(tf.cast(tf.abs(diff_observed) < 0.5, tf.float32), name='acc')\n",
    "\n",
    "    sum_sq = tf.reduce_sum(tf.square(diff_observed), name='SS')\n",
    "    reg = tf.reduce_sum(tf.square(L)) + tf.reduce_sum(tf.square(U))\n",
    "    extra = tf.reduce_sum(tf.nn.relu(Y - 5.5) + tf.nn.relu(-0.5 - Y), name='extra_penalty')\n",
    "\n",
    "    cost = sum_sq + lamb[0] * reg + lamb[1] * extra\n",
    "    \n",
    "    optimizer = tf.train.AdamOptimizer(learning_rate=learning_rate).minimize(cost)\n",
    "    \n",
    "    path = []\n",
    "\n",
    "    with tf.Session() as sess:\n",
    "        sess.run(tf.global_variables_initializer())\n",
    "        \n",
    "        for i in range(n_iter):\n",
    "            \n",
    "            _, C, C_ss, C_reg, C_ext, acc = sess.run([optimizer, cost, sum_sq, reg, extra, accuracy])\n",
    "            path.append([C, C_ss, C_reg, C_ext, acc])\n",
    "            \n",
    "            if i%500==0: print('iter = %d, J = %.2f, Accuracy = %.2f'%(i, C, acc))\n",
    "    \n",
    "        res = sess.run([Y, L, U])\n",
    "    \n",
    "    return res, np.array(path)"
   ]
  },
  {
   "cell_type": "code",
   "execution_count": 11,
   "metadata": {},
   "outputs": [
    {
     "name": "stdout",
     "output_type": "stream",
     "text": [
      "iter = 0, J = 83431272.00, Accuracy = 0.02\n",
      "iter = 500, J = 81637.91, Accuracy = 0.43\n",
      "iter = 1000, J = 63447.82, Accuracy = 0.49\n",
      "iter = 1500, J = 51831.09, Accuracy = 0.54\n",
      "iter = 2000, J = 45363.73, Accuracy = 0.58\n",
      "iter = 2500, J = 41397.30, Accuracy = 0.60\n",
      "iter = 3000, J = 38846.28, Accuracy = 0.62\n",
      "iter = 3500, J = 37117.92, Accuracy = 0.64\n",
      "iter = 4000, J = 35887.18, Accuracy = 0.65\n",
      "iter = 4500, J = 35023.89, Accuracy = 0.65\n",
      "iter = 5000, J = 34427.36, Accuracy = 0.66\n",
      "iter = 5500, J = 34002.30, Accuracy = 0.66\n",
      "iter = 6000, J = 33719.66, Accuracy = 0.66\n",
      "iter = 6500, J = 33486.81, Accuracy = 0.67\n",
      "iter = 7000, J = 33321.26, Accuracy = 0.67\n",
      "iter = 7500, J = 33187.39, Accuracy = 0.67\n",
      "iter = 8000, J = 33071.19, Accuracy = 0.67\n",
      "iter = 8500, J = 33022.59, Accuracy = 0.67\n",
      "iter = 9000, J = 32976.66, Accuracy = 0.67\n",
      "iter = 9500, J = 32988.11, Accuracy = 0.67\n"
     ]
    }
   ],
   "source": [
    "res, c_path = matrix_completion(X.values, 20, (0.1, 10), n_iter=10000)"
   ]
  },
  {
   "cell_type": "code",
   "execution_count": 12,
   "metadata": {},
   "outputs": [
    {
     "name": "stdout",
     "output_type": "stream",
     "text": [
      "Effective rank = 22\n",
      "Max pred = 5.61\n",
      "Min Pred = -0.58\n"
     ]
    },
    {
     "data": {
      "image/png": "[encoded data removed]",
      "text/plain": [
       "<matplotlib.figure.Figure at 0x1a1dc91828>"
      ]
     },
     "metadata": {},
     "output_type": "display_data"
    }
   ],
   "source": [
    "# evaluate result\n",
    "\n",
    "n_skip = 100\n",
    "pd.DataFrame(c_path[:, :-1], columns=['Total', 'SSE', 'Reg', 'Extra']).iloc[n_skip:,:].plot()\n",
    "\n",
    "X_filled = pd.DataFrame(res[0], index=X.index, columns=X.columns)\n",
    "\n",
    "_, S, _ = np.linalg.svd(X_filled)\n",
    "print('Effective rank = %d'%(S > 0.01).sum())\n",
    "print('Max pred = %.2f'%X_filled.values.max())\n",
    "print('Min Pred = %.2f'%X_filled.values.min())"
   ]
  },
  {
   "cell_type": "code",
   "execution_count": 13,
   "metadata": {},
   "outputs": [
    {
     "data": {
      "text/plain": [
       "<matplotlib.axes._subplots.AxesSubplot at 0x1a1dc7be80>"
      ]
     },
     "execution_count": 13,
     "metadata": {},
     "output_type": "execute_result"
    },
    {
     "data": {
      "image/png": "[encoded data removed]",
      "text/plain": [
       "<matplotlib.figure.Figure at 0x1a1dc7bb70>"
      ]
     },
     "metadata": {},
     "output_type": "display_data"
    }
   ],
   "source": [
    "pd.DataFrame(c_path[:, -1], columns=['Accuracy']).iloc[n_skip:,:].plot()"
   ]
  },
  {
   "cell_type": "code",
   "execution_count": 14,
   "metadata": {
    "collapsed": true
   },
   "outputs": [],
   "source": [
    "def get_MC_prediction(user_id):\n",
    "\n",
    "    pred = X_filled.round().loc[pd.isnull(X[user_id]), user_id]\n",
    "    pred = pd.DataFrame([(name_map[idx], v) for idx, v in pred.iteritems()], columns=['movie title', 'predicted rating'])\n",
    "    return pred.sort_values('predicted rating', ascending=False)"
   ]
  },
  {
   "cell_type": "code",
   "execution_count": 15,
   "metadata": {},
   "outputs": [
    {
     "data": {
      "text/html": [
       "<div>\n",
       "<style scoped>\n",
       "    .dataframe tbody tr th:only-of-type {\n",
       "        vertical-align: middle;\n",
       "    }\n",
       "\n",
       "    .dataframe tbody tr th {\n",
       "        vertical-align: top;\n",
       "    }\n",
       "\n",
       "    .dataframe thead th {\n",
       "        text-align: right;\n",
       "    }\n",
       "</style>\n",
       "<table border=\"1\" class=\"dataframe\">\n",
       "  <thead>\n",
       "    <tr style=\"text-align: right;\">\n",
       "      <th></th>\n",
       "      <th>movie title</th>\n",
       "      <th>predicted rating</th>\n",
       "    </tr>\n",
       "  </thead>\n",
       "  <tbody>\n",
       "    <tr>\n",
       "      <th>599</th>\n",
       "      <td>Roommates (1995)</td>\n",
       "      <td>5.0</td>\n",
       "    </tr>\n",
       "    <tr>\n",
       "      <th>707</th>\n",
       "      <td>Big Lebowski, The (1998)</td>\n",
       "      <td>5.0</td>\n",
       "    </tr>\n",
       "    <tr>\n",
       "      <th>268</th>\n",
       "      <td>Fear of a Black Hat (1993)</td>\n",
       "      <td>5.0</td>\n",
       "    </tr>\n",
       "    <tr>\n",
       "      <th>946</th>\n",
       "      <td>Stalker (1979)</td>\n",
       "      <td>5.0</td>\n",
       "    </tr>\n",
       "    <tr>\n",
       "      <th>1413</th>\n",
       "      <td>Bitter Sugar (Azucar Amargo) (1996)</td>\n",
       "      <td>5.0</td>\n",
       "    </tr>\n",
       "    <tr>\n",
       "      <th>1198</th>\n",
       "      <td>My Crazy Life (Mi vida loca) (1993)</td>\n",
       "      <td>5.0</td>\n",
       "    </tr>\n",
       "    <tr>\n",
       "      <th>130</th>\n",
       "      <td>Nikita (La Femme Nikita) (1990)</td>\n",
       "      <td>5.0</td>\n",
       "    </tr>\n",
       "    <tr>\n",
       "      <th>1416</th>\n",
       "      <td>Some Mother's Son (1996)</td>\n",
       "      <td>5.0</td>\n",
       "    </tr>\n",
       "    <tr>\n",
       "      <th>1022</th>\n",
       "      <td>Ghost in the Shell (Kokaku kidotai) (1995)</td>\n",
       "      <td>5.0</td>\n",
       "    </tr>\n",
       "    <tr>\n",
       "      <th>947</th>\n",
       "      <td>Palookaville (1996)</td>\n",
       "      <td>5.0</td>\n",
       "    </tr>\n",
       "    <tr>\n",
       "      <th>212</th>\n",
       "      <td>Lost Highway (1997)</td>\n",
       "      <td>5.0</td>\n",
       "    </tr>\n",
       "    <tr>\n",
       "      <th>1308</th>\n",
       "      <td>I Don't Want to Talk About It (De eso no se ha...</td>\n",
       "      <td>5.0</td>\n",
       "    </tr>\n",
       "    <tr>\n",
       "      <th>951</th>\n",
       "      <td>Sum of Us, The (1994)</td>\n",
       "      <td>5.0</td>\n",
       "    </tr>\n",
       "    <tr>\n",
       "      <th>366</th>\n",
       "      <td>Wings of Desire (1987)</td>\n",
       "      <td>5.0</td>\n",
       "    </tr>\n",
       "    <tr>\n",
       "      <th>505</th>\n",
       "      <td>Nosferatu (Nosferatu, eine Symphonie des Graue...</td>\n",
       "      <td>5.0</td>\n",
       "    </tr>\n",
       "    <tr>\n",
       "      <th>852</th>\n",
       "      <td>Four Days in September (1997)</td>\n",
       "      <td>5.0</td>\n",
       "    </tr>\n",
       "    <tr>\n",
       "      <th>500</th>\n",
       "      <td>Body Snatchers (1993)</td>\n",
       "      <td>5.0</td>\n",
       "    </tr>\n",
       "    <tr>\n",
       "      <th>220</th>\n",
       "      <td>U Turn (1997)</td>\n",
       "      <td>5.0</td>\n",
       "    </tr>\n",
       "    <tr>\n",
       "      <th>945</th>\n",
       "      <td>Fille seule, La (A Single Girl) (1995)</td>\n",
       "      <td>5.0</td>\n",
       "    </tr>\n",
       "    <tr>\n",
       "      <th>73</th>\n",
       "      <td>Wallace &amp; Gromit: The Best of Aardman Animatio...</td>\n",
       "      <td>5.0</td>\n",
       "    </tr>\n",
       "    <tr>\n",
       "      <th>930</th>\n",
       "      <td>Hard Eight (1996)</td>\n",
       "      <td>5.0</td>\n",
       "    </tr>\n",
       "    <tr>\n",
       "      <th>544</th>\n",
       "      <td>In the Bleak Midwinter (1995)</td>\n",
       "      <td>5.0</td>\n",
       "    </tr>\n",
       "    <tr>\n",
       "      <th>101</th>\n",
       "      <td>Reservoir Dogs (1992)</td>\n",
       "      <td>5.0</td>\n",
       "    </tr>\n",
       "    <tr>\n",
       "      <th>1311</th>\n",
       "      <td>Aiqing wansui (1994)</td>\n",
       "      <td>5.0</td>\n",
       "    </tr>\n",
       "    <tr>\n",
       "      <th>837</th>\n",
       "      <td>Paper, The (1994)</td>\n",
       "      <td>5.0</td>\n",
       "    </tr>\n",
       "    <tr>\n",
       "      <th>246</th>\n",
       "      <td>Incognito (1997)</td>\n",
       "      <td>5.0</td>\n",
       "    </tr>\n",
       "    <tr>\n",
       "      <th>556</th>\n",
       "      <td>Go Fish (1994)</td>\n",
       "      <td>5.0</td>\n",
       "    </tr>\n",
       "    <tr>\n",
       "      <th>1172</th>\n",
       "      <td>Hurricane Streets (1998)</td>\n",
       "      <td>5.0</td>\n",
       "    </tr>\n",
       "    <tr>\n",
       "      <th>421</th>\n",
       "      <td>Romeo Is Bleeding (1993)</td>\n",
       "      <td>5.0</td>\n",
       "    </tr>\n",
       "    <tr>\n",
       "      <th>1173</th>\n",
       "      <td>Stonewall (1995)</td>\n",
       "      <td>5.0</td>\n",
       "    </tr>\n",
       "    <tr>\n",
       "      <th>...</th>\n",
       "      <td>...</td>\n",
       "      <td>...</td>\n",
       "    </tr>\n",
       "    <tr>\n",
       "      <th>237</th>\n",
       "      <td>Prophecy II, The (1998)</td>\n",
       "      <td>1.0</td>\n",
       "    </tr>\n",
       "    <tr>\n",
       "      <th>238</th>\n",
       "      <td>Spice World (1997)</td>\n",
       "      <td>1.0</td>\n",
       "    </tr>\n",
       "    <tr>\n",
       "      <th>1373</th>\n",
       "      <td>City of Industry (1997)</td>\n",
       "      <td>1.0</td>\n",
       "    </tr>\n",
       "    <tr>\n",
       "      <th>224</th>\n",
       "      <td>Bean (1997)</td>\n",
       "      <td>1.0</td>\n",
       "    </tr>\n",
       "    <tr>\n",
       "      <th>103</th>\n",
       "      <td>Weekend at Bernie's (1989)</td>\n",
       "      <td>1.0</td>\n",
       "    </tr>\n",
       "    <tr>\n",
       "      <th>100</th>\n",
       "      <td>Dirty Dancing (1987)</td>\n",
       "      <td>1.0</td>\n",
       "    </tr>\n",
       "    <tr>\n",
       "      <th>630</th>\n",
       "      <td>Eddie (1996)</td>\n",
       "      <td>1.0</td>\n",
       "    </tr>\n",
       "    <tr>\n",
       "      <th>1302</th>\n",
       "      <td>Senseless (1998)</td>\n",
       "      <td>1.0</td>\n",
       "    </tr>\n",
       "    <tr>\n",
       "      <th>841</th>\n",
       "      <td>Ghost and Mrs. Muir, The (1947)</td>\n",
       "      <td>1.0</td>\n",
       "    </tr>\n",
       "    <tr>\n",
       "      <th>249</th>\n",
       "      <td>Ace Ventura: When Nature Calls (1995)</td>\n",
       "      <td>1.0</td>\n",
       "    </tr>\n",
       "    <tr>\n",
       "      <th>405</th>\n",
       "      <td>Tales from the Hood (1995)</td>\n",
       "      <td>1.0</td>\n",
       "    </tr>\n",
       "    <tr>\n",
       "      <th>771</th>\n",
       "      <td>Winnie the Pooh and the Blustery Day (1968)</td>\n",
       "      <td>1.0</td>\n",
       "    </tr>\n",
       "    <tr>\n",
       "      <th>86</th>\n",
       "      <td>D3: The Mighty Ducks (1996)</td>\n",
       "      <td>1.0</td>\n",
       "    </tr>\n",
       "    <tr>\n",
       "      <th>216</th>\n",
       "      <td>187 (1997)</td>\n",
       "      <td>1.0</td>\n",
       "    </tr>\n",
       "    <tr>\n",
       "      <th>253</th>\n",
       "      <td>Black Sheep (1996)</td>\n",
       "      <td>1.0</td>\n",
       "    </tr>\n",
       "    <tr>\n",
       "      <th>81</th>\n",
       "      <td>Kansas City (1996)</td>\n",
       "      <td>1.0</td>\n",
       "    </tr>\n",
       "    <tr>\n",
       "      <th>256</th>\n",
       "      <td>Mighty Morphin Power Rangers: The Movie (1995)</td>\n",
       "      <td>1.0</td>\n",
       "    </tr>\n",
       "    <tr>\n",
       "      <th>734</th>\n",
       "      <td>Island of Dr. Moreau, The (1996)</td>\n",
       "      <td>1.0</td>\n",
       "    </tr>\n",
       "    <tr>\n",
       "      <th>76</th>\n",
       "      <td>Frighteners, The (1996)</td>\n",
       "      <td>1.0</td>\n",
       "    </tr>\n",
       "    <tr>\n",
       "      <th>70</th>\n",
       "      <td>Operation Dumbo Drop (1995)</td>\n",
       "      <td>1.0</td>\n",
       "    </tr>\n",
       "    <tr>\n",
       "      <th>1184</th>\n",
       "      <td>Specialist, The (1994)</td>\n",
       "      <td>1.0</td>\n",
       "    </tr>\n",
       "    <tr>\n",
       "      <th>259</th>\n",
       "      <td>Heavyweights (1994)</td>\n",
       "      <td>1.0</td>\n",
       "    </tr>\n",
       "    <tr>\n",
       "      <th>510</th>\n",
       "      <td>Kull the Conqueror (1997)</td>\n",
       "      <td>1.0</td>\n",
       "    </tr>\n",
       "    <tr>\n",
       "      <th>260</th>\n",
       "      <td>Miracle on 34th Street (1994)</td>\n",
       "      <td>1.0</td>\n",
       "    </tr>\n",
       "    <tr>\n",
       "      <th>683</th>\n",
       "      <td>That Darn Cat! (1997)</td>\n",
       "      <td>1.0</td>\n",
       "    </tr>\n",
       "    <tr>\n",
       "      <th>386</th>\n",
       "      <td>Mouse Hunt (1997)</td>\n",
       "      <td>1.0</td>\n",
       "    </tr>\n",
       "    <tr>\n",
       "      <th>518</th>\n",
       "      <td>Leave It to Beaver (1997)</td>\n",
       "      <td>1.0</td>\n",
       "    </tr>\n",
       "    <tr>\n",
       "      <th>162</th>\n",
       "      <td>Turbo: A Power Rangers Movie (1997)</td>\n",
       "      <td>1.0</td>\n",
       "    </tr>\n",
       "    <tr>\n",
       "      <th>607</th>\n",
       "      <td>Richie Rich (1994)</td>\n",
       "      <td>0.0</td>\n",
       "    </tr>\n",
       "    <tr>\n",
       "      <th>322</th>\n",
       "      <td>Free Willy 3: The Rescue (1997)</td>\n",
       "      <td>0.0</td>\n",
       "    </tr>\n",
       "  </tbody>\n",
       "</table>\n",
       "<p>1457 rows × 2 columns</p>\n",
       "</div>"
      ],
      "text/plain": [
       "                                            movie title  predicted rating\n",
       "599                                    Roommates (1995)               5.0\n",
       "707                            Big Lebowski, The (1998)               5.0\n",
       "268                          Fear of a Black Hat (1993)               5.0\n",
       "946                                      Stalker (1979)               5.0\n",
       "1413                Bitter Sugar (Azucar Amargo) (1996)               5.0\n",
       "1198                My Crazy Life (Mi vida loca) (1993)               5.0\n",
       "130                     Nikita (La Femme Nikita) (1990)               5.0\n",
       "1416                           Some Mother's Son (1996)               5.0\n",
       "1022         Ghost in the Shell (Kokaku kidotai) (1995)               5.0\n",
       "947                                 Palookaville (1996)               5.0\n",
       "212                                 Lost Highway (1997)               5.0\n",
       "1308  I Don't Want to Talk About It (De eso no se ha...               5.0\n",
       "951                               Sum of Us, The (1994)               5.0\n",
       "366                              Wings of Desire (1987)               5.0\n",
       "505   Nosferatu (Nosferatu, eine Symphonie des Graue...               5.0\n",
       "852                       Four Days in September (1997)               5.0\n",
       "500                               Body Snatchers (1993)               5.0\n",
       "220                                       U Turn (1997)               5.0\n",
       "945              Fille seule, La (A Single Girl) (1995)               5.0\n",
       "73    Wallace & Gromit: The Best of Aardman Animatio...               5.0\n",
       "930                                   Hard Eight (1996)               5.0\n",
       "544                       In the Bleak Midwinter (1995)               5.0\n",
       "101                               Reservoir Dogs (1992)               5.0\n",
       "1311                               Aiqing wansui (1994)               5.0\n",
       "837                                   Paper, The (1994)               5.0\n",
       "246                                    Incognito (1997)               5.0\n",
       "556                                      Go Fish (1994)               5.0\n",
       "1172                           Hurricane Streets (1998)               5.0\n",
       "421                            Romeo Is Bleeding (1993)               5.0\n",
       "1173                                   Stonewall (1995)               5.0\n",
       "...                                                 ...               ...\n",
       "237                             Prophecy II, The (1998)               1.0\n",
       "238                                  Spice World (1997)               1.0\n",
       "1373                            City of Industry (1997)               1.0\n",
       "224                                         Bean (1997)               1.0\n",
       "103                          Weekend at Bernie's (1989)               1.0\n",
       "100                                Dirty Dancing (1987)               1.0\n",
       "630                                        Eddie (1996)               1.0\n",
       "1302                                   Senseless (1998)               1.0\n",
       "841                     Ghost and Mrs. Muir, The (1947)               1.0\n",
       "249               Ace Ventura: When Nature Calls (1995)               1.0\n",
       "405                          Tales from the Hood (1995)               1.0\n",
       "771         Winnie the Pooh and the Blustery Day (1968)               1.0\n",
       "86                          D3: The Mighty Ducks (1996)               1.0\n",
       "216                                          187 (1997)               1.0\n",
       "253                                  Black Sheep (1996)               1.0\n",
       "81                                   Kansas City (1996)               1.0\n",
       "256      Mighty Morphin Power Rangers: The Movie (1995)               1.0\n",
       "734                    Island of Dr. Moreau, The (1996)               1.0\n",
       "76                              Frighteners, The (1996)               1.0\n",
       "70                          Operation Dumbo Drop (1995)               1.0\n",
       "1184                             Specialist, The (1994)               1.0\n",
       "259                                 Heavyweights (1994)               1.0\n",
       "510                           Kull the Conqueror (1997)               1.0\n",
       "260                       Miracle on 34th Street (1994)               1.0\n",
       "683                               That Darn Cat! (1997)               1.0\n",
       "386                                   Mouse Hunt (1997)               1.0\n",
       "518                           Leave It to Beaver (1997)               1.0\n",
       "162                 Turbo: A Power Rangers Movie (1997)               1.0\n",
       "607                                  Richie Rich (1994)               0.0\n",
       "322                     Free Willy 3: The Rescue (1997)               0.0\n",
       "\n",
       "[1457 rows x 2 columns]"
      ]
     },
     "execution_count": 15,
     "metadata": {},
     "output_type": "execute_result"
    }
   ],
   "source": [
    "get_MC_prediction(500)"
   ]
  },
  {
   "cell_type": "code",
   "execution_count": null,
   "metadata": {
    "collapsed": true
   },
   "outputs": [],
   "source": []
  }
 ],
 "metadata": {
  "kernelspec": {
   "display_name": "Python 3",
   "language": "python",
   "name": "python3"
  },
  "language_info": {
   "codemirror_mode": {
    "name": "ipython",
    "version": 3
   },
   "file_extension": ".py",
   "mimetype": "text/x-python",
   "name": "python",
   "nbconvert_exporter": "python",
   "pygments_lexer": "ipython3",
   "version": "3.6.4"
  }
 },
 "nbformat": 4,
 "nbformat_minor": 2
}
