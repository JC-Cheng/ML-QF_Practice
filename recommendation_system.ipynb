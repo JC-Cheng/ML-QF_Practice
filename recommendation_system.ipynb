{
 "cells": [
  {
   "cell_type": "markdown",
   "metadata": {},
   "source": [
    "# Recommendation System"
   ]
  },
  {
   "cell_type": "code",
   "execution_count": 1,
   "metadata": {
    "collapsed": true
   },
   "outputs": [],
   "source": [
    "import numpy as np\n",
    "import pandas as pd\n",
    "import tensorflow as tf\n",
    "import matplotlib.pyplot as plt\n",
    "from sklearn.decomposition import TruncatedSVD\n",
    "\n",
    "%matplotlib inline"
   ]
  },
  {
   "cell_type": "markdown",
   "metadata": {},
   "source": [
    "## 1. Build Utility Matrix from data\n",
    "\n",
    "Data Source: [GroupLens: MovieLens](https://grouplens.org/datasets/movielens/100k/)"
   ]
  },
  {
   "cell_type": "code",
   "execution_count": 2,
   "metadata": {
    "collapsed": true
   },
   "outputs": [],
   "source": [
    "col_names = ['user_id', 'movie_id', 'rating', 'timestamp']\n",
    "movie_rating = pd.read_csv('http://files.grouplens.org/datasets/movielens/ml-100k/u.data', \n",
    "                           sep='\\t', names=col_names)"
   ]
  },
  {
   "cell_type": "code",
   "execution_count": 3,
   "metadata": {
    "collapsed": true
   },
   "outputs": [],
   "source": [
    "col_names = ['movie_id', 'movie title', 'release date', 'video release date', 'IMDb URL', \n",
    "             'unknown', 'Action', 'Adventure', 'Animation', 'Childrens', 'Comedy', 'Crime', \n",
    "             'Documentary', 'Drama', 'Fantasy', 'Film-Noir', 'Horror', 'Musical', 'Mystery',\n",
    "             'Romance', 'Sci-Fi', 'Thriller', 'War', 'Western']\n",
    "\n",
    "movies = pd.read_csv('http://files.grouplens.org/datasets/movielens/ml-100k/u.item', \n",
    "                     sep='|', names=col_names, encoding='latin-1')"
   ]
  },
  {
   "cell_type": "code",
   "execution_count": 4,
   "metadata": {},
   "outputs": [
    {
     "data": {
      "text/plain": [
       "(1682, 943)"
      ]
     },
     "execution_count": 4,
     "metadata": {},
     "output_type": "execute_result"
    }
   ],
   "source": [
    "X = pd.pivot_table(movie_rating, values='rating', index='movie_id', columns='user_id')\n",
    "X.shape"
   ]
  },
  {
   "cell_type": "markdown",
   "metadata": {},
   "source": [
    "## 2. Truncated SVD:\n",
    "\n",
    "Replace n/a rating with 0, and then find the first 20 latent variables based on user's rating to represent key feature of each movie."
   ]
  },
  {
   "cell_type": "code",
   "execution_count": 5,
   "metadata": {
    "collapsed": true
   },
   "outputs": [],
   "source": [
    "tSVD = TruncatedSVD(n_components=20, n_iter=10, random_state=33)"
   ]
  },
  {
   "cell_type": "code",
   "execution_count": 6,
   "metadata": {},
   "outputs": [
    {
     "data": {
      "text/plain": [
       "(1682, 20)"
      ]
     },
     "execution_count": 6,
     "metadata": {},
     "output_type": "execute_result"
    }
   ],
   "source": [
    "t_X = tSVD.fit_transform(X.fillna(0))\n",
    "t_X.shape"
   ]
  },
  {
   "cell_type": "code",
   "execution_count": 7,
   "metadata": {
    "collapsed": true
   },
   "outputs": [],
   "source": [
    "corr = pd.DataFrame(np.corrcoef(t_X), index=X.index, columns=X.index)\n",
    "name_map = {idx: T for idx, T in movies[['movie_id', 'movie title']].values}\n",
    "\n",
    "def find_similiar_movies(movie_id, n=5):\n",
    "    \n",
    "    top_n = corr.loc[corr.index!=movie_id, movie_id].sort_values(ascending=False)[:n]\n",
    "    top_n_names = pd.Series({idx: name_map[idx] for idx in top_n.index})\n",
    "    \n",
    "    print('People who like \"%s\" also like:'%name_map[movie_id])\n",
    "    print(top_n_names.tolist())\n",
    "\n",
    "    return top_n"
   ]
  },
  {
   "cell_type": "code",
   "execution_count": 8,
   "metadata": {},
   "outputs": [
    {
     "name": "stdout",
     "output_type": "stream",
     "text": [
      "People who like \"Batman Returns (1992)\" also like:\n",
      "['GoldenEye (1995)', 'Batman Forever (1995)', 'Stargate (1994)', 'Batman (1989)', 'Demolition Man (1993)']\n"
     ]
    },
    {
     "data": {
      "text/plain": [
       "movie_id\n",
       "403    0.973221\n",
       "62     0.951129\n",
       "2      0.950907\n",
       "29     0.948130\n",
       "578    0.944055\n",
       "Name: 231, dtype: float64"
      ]
     },
     "execution_count": 8,
     "metadata": {},
     "output_type": "execute_result"
    }
   ],
   "source": [
    "find_similiar_movies(231)"
   ]
  },
  {
   "cell_type": "code",
   "execution_count": 9,
   "metadata": {},
   "outputs": [
    {
     "name": "stdout",
     "output_type": "stream",
     "text": [
      "People who like \"Ghost in the Shell (Kokaku kidotai) (1995)\" also like:\n",
      "['Heavy Metal (1981)', 'Army of Darkness (1993)', 'Akira (1988)', 'Highlander (1986)', 'Tank Girl (1995)']\n"
     ]
    },
    {
     "data": {
      "text/plain": [
       "movie_id\n",
       "101     0.874645\n",
       "1110    0.864543\n",
       "206     0.860941\n",
       "184     0.833131\n",
       "431     0.805827\n",
       "Name: 1240, dtype: float64"
      ]
     },
     "execution_count": 9,
     "metadata": {},
     "output_type": "execute_result"
    }
   ],
   "source": [
    "find_similiar_movies(1240)"
   ]
  },
  {
   "cell_type": "markdown",
   "metadata": {},
   "source": [
    "## 3. Matrix Completion (collaborative filtering)\n",
    "\n",
    "Idea:\n",
    "\n",
    "$$X^{(filled)} \\sim L \\times U$$\n",
    "\n",
    "$L, U$ are low rank matrix. $L$ represents latent features for each movie and $U$ represents latent features for each user.\n",
    "\n",
    "Taking the bias (overall average $\\mu$, average rating per movie $b^{(movie)}$, and average rating per user $b^{(user)}$) into account, we extend $L$ and $U$ by ones and the bias.\n",
    "\n",
    "\\begin{align}\n",
    "L_{ext} &= [L; b^{(movie)}; 1] \\\\\n",
    "U_{ext}^\\top &= [U^\\top; 1; b^{(user)}] \\\\\n",
    "\\end{align}\n",
    "\n",
    "The estimation for non-rated values is:\n",
    "\n",
    "$$Y_{i,j} = \\mu + \\left(L_{ext}U_{ext}\\right)_{i,j} = \\mu + b^{(movie)}_i + b^{(user)}_j + L_i^\\top U_j$$\n",
    "\n",
    "Regularize by adding the term $\\|L\\|_F^2+\\|U\\|_F^2$. To prevent invalid prediction, penalize the prediction for every $Y_{i,j} > 5.5$ or $Y_{i,j} < -0.5 $. Finanally, the cost to minimize is:\n",
    "\n",
    "\n",
    "$$J = \\sum_{(i, j): observed} \\left(Y_{i,j} - X_{i,j} \\right)^2 \n",
    "+ \\lambda_1 \\left( \\|L\\|_F^2+\\|U\\|_F^2 \\right) \n",
    "+ \\lambda_2 \\sum_{(i, j): all} \\left(\\left(Y_{i,j} - 5.5\\right)_+ + \\left(-0.5 - Y_{i,j}\\right)_+\\right)$$\n",
    "\n",
    "For unobserved $(i, j)$:\n",
    "\n",
    "$$X^{(filled)}_{i,j} = Round(Y_{i,j})$$"
   ]
  },
  {
   "cell_type": "code",
   "execution_count": 10,
   "metadata": {
    "collapsed": true
   },
   "outputs": [],
   "source": [
    "def matrix_completion(X, k, lamb, learning_rate=0.03, n_iter=5000):\n",
    "    \n",
    "    n_M, n_U = X.shape\n",
    "    bias = np.nanmean(X)\n",
    "    moive_bias = np.nanmean(X, axis=1) - bias\n",
    "    user_bias = np.nanmean(X, axis=0) - bias\n",
    "    \n",
    "    mask = np.where(~np.isnan(X).reshape(-1))[0]\n",
    "    \n",
    "    tf.reset_default_graph()\n",
    "    L = tf.Variable(tf.truncated_normal([n_M, k]), name=\"movies\")\n",
    "    U = tf.Variable(tf.truncated_normal([k, n_U]), name=\"users\")\n",
    "\n",
    "    L_ext = tf.concat([L, tf.convert_to_tensor(moive_bias.reshape(n_M, 1), dtype=tf.float32), tf.ones((n_M, 1))], \n",
    "                      axis=1, name='movie_ext')\n",
    "    U_ext = tf.concat([U, tf.ones((1, n_U)), tf.convert_to_tensor(user_bias.reshape(1, n_U), dtype=tf.float32)],\n",
    "                      axis=0, name='user_ext')\n",
    "\n",
    "    Y = tf.add(tf.matmul(L_ext, U_ext), bias, name='pred')\n",
    "    \n",
    "    diff = tf.reshape(tf.subtract(Y, X), [-1], name='diff')\n",
    "    diff_observed = tf.gather(diff, mask, name='diff_observed')\n",
    "    \n",
    "    accuracy = tf.reduce_mean(tf.cast(tf.abs(diff_observed) < 0.5, tf.float32), name='acc')\n",
    "\n",
    "    sum_sq = tf.reduce_sum(tf.square(diff_observed), name='SS')\n",
    "    reg = tf.reduce_sum(tf.square(L)) + tf.reduce_sum(tf.square(U))\n",
    "    extra = tf.reduce_sum(tf.nn.relu(Y - 5.5) + tf.nn.relu(-0.5 - Y), name='extra_penalty')\n",
    "\n",
    "    cost = sum_sq + lamb[0] * reg + lamb[1] * extra\n",
    "    \n",
    "    optimizer = tf.train.AdamOptimizer(learning_rate=learning_rate).minimize(cost)\n",
    "    \n",
    "    path = []\n",
    "\n",
    "    with tf.Session() as sess:\n",
    "        sess.run(tf.global_variables_initializer())\n",
    "        \n",
    "        for i in range(n_iter):\n",
    "            \n",
    "            _, C, C_ss, C_reg, C_ext, acc = sess.run([optimizer, cost, sum_sq, reg, extra, accuracy])\n",
    "            path.append([C, C_ss, C_reg, C_ext, acc])\n",
    "            \n",
    "            if i%500==0: print('iter = %d, J = %.2f, Accuracy = %.4f'%(i, C, acc))\n",
    "    \n",
    "        res = sess.run([Y, L, U])\n",
    "    \n",
    "    return res, np.array(path)"
   ]
  },
  {
   "cell_type": "code",
   "execution_count": 11,
   "metadata": {},
   "outputs": [
    {
     "name": "stdout",
     "output_type": "stream",
     "text": [
      "iter = 0, J = 14446953.00, Accuracy = 0.1128\n",
      "iter = 500, J = 52236.18, Accuracy = 0.5308\n",
      "iter = 1000, J = 41029.75, Accuracy = 0.5952\n",
      "iter = 1500, J = 36802.77, Accuracy = 0.6240\n",
      "iter = 2000, J = 34595.37, Accuracy = 0.6433\n",
      "iter = 2500, J = 33323.59, Accuracy = 0.6527\n",
      "iter = 3000, J = 32547.99, Accuracy = 0.6602\n",
      "iter = 3500, J = 32024.18, Accuracy = 0.6639\n",
      "iter = 4000, J = 31674.68, Accuracy = 0.6659\n",
      "iter = 4500, J = 31434.34, Accuracy = 0.6674\n",
      "iter = 5000, J = 31269.43, Accuracy = 0.6689\n",
      "iter = 5500, J = 31165.02, Accuracy = 0.6698\n",
      "iter = 6000, J = 31099.19, Accuracy = 0.6704\n",
      "iter = 6500, J = 31064.42, Accuracy = 0.6703\n",
      "iter = 7000, J = 31041.03, Accuracy = 0.6695\n",
      "iter = 7500, J = 31034.03, Accuracy = 0.6697\n",
      "iter = 8000, J = 31029.62, Accuracy = 0.6704\n",
      "iter = 8500, J = 31016.45, Accuracy = 0.6712\n",
      "iter = 9000, J = 31012.64, Accuracy = 0.6720\n",
      "iter = 9500, J = 31007.55, Accuracy = 0.6709\n"
     ]
    }
   ],
   "source": [
    "# for simplicity, we only compute in-sample accuracy\n",
    "\n",
    "res, c_path = matrix_completion(X.values, 20, (0.1, 10), n_iter=10000)"
   ]
  },
  {
   "cell_type": "code",
   "execution_count": 12,
   "metadata": {},
   "outputs": [
    {
     "name": "stdout",
     "output_type": "stream",
     "text": [
      "Effective rank = 22\n",
      "Max pred = 5.58\n",
      "Min Pred = -0.55\n"
     ]
    },
    {
     "data": {
      "image/png": "[encoded data removed]",
      "text/plain": [
       "<matplotlib.figure.Figure at 0x1a18068e10>"
      ]
     },
     "metadata": {},
     "output_type": "display_data"
    }
   ],
   "source": [
    "# evaluate result\n",
    "\n",
    "n_skip = 100\n",
    "pd.DataFrame(c_path[:, :-1], columns=['Total', 'SSE', 'Reg', 'Extra']).iloc[n_skip:,:].plot()\n",
    "\n",
    "X_filled = pd.DataFrame(res[0], index=X.index, columns=X.columns)\n",
    "\n",
    "_, S, _ = np.linalg.svd(X_filled)\n",
    "print('Effective rank = %d'%(S > 0.01).sum())\n",
    "print('Max pred = %.2f'%X_filled.values.max())\n",
    "print('Min Pred = %.2f'%X_filled.values.min())"
   ]
  },
  {
   "cell_type": "code",
   "execution_count": 13,
   "metadata": {},
   "outputs": [
    {
     "data": {
      "text/plain": [
       "<matplotlib.axes._subplots.AxesSubplot at 0x1a181f6470>"
      ]
     },
     "execution_count": 13,
     "metadata": {},
     "output_type": "execute_result"
    },
    {
     "data": {
      "image/png": "[encoded data removed]",
      "text/plain": [
       "<matplotlib.figure.Figure at 0x1036c3e10>"
      ]
     },
     "metadata": {},
     "output_type": "display_data"
    }
   ],
   "source": [
    "pd.DataFrame(c_path[:, -1], columns=['Accuracy']).iloc[n_skip:,:].plot()"
   ]
  },
  {
   "cell_type": "code",
   "execution_count": 14,
   "metadata": {
    "collapsed": true
   },
   "outputs": [],
   "source": [
    "def get_MC_prediction(user_id):\n",
    "    \n",
    "    rated = X.loc[pd.notnull(X[user_id]), user_id]\n",
    "    df_rated = pd.DataFrame([(name_map[idx], v) for idx, v in rated.iteritems()], columns=['title', 'rating'])\n",
    "    df_rated.sort_values('rating', ascending=False, inplace=True)\n",
    "    \n",
    "    pred = X_filled.round().loc[pd.isnull(X[user_id]), user_id]\n",
    "    df_pred = pd.DataFrame([(name_map[idx], v) for idx, v in pred.iteritems()], columns=['title', 'predicted rating'])\n",
    "    df_pred.sort_values('predicted rating', ascending=False, inplace=True)\n",
    "    return df_pred, df_rated"
   ]
  },
  {
   "cell_type": "code",
   "execution_count": 15,
   "metadata": {},
   "outputs": [],
   "source": [
    "pred, rated = get_MC_prediction(387)"
   ]
  },
  {
   "cell_type": "code",
   "execution_count": 16,
   "metadata": {},
   "outputs": [
    {
     "data": {
      "text/html": [
       "<div>\n",
       "<style scoped>\n",
       "    .dataframe tbody tr th:only-of-type {\n",
       "        vertical-align: middle;\n",
       "    }\n",
       "\n",
       "    .dataframe tbody tr th {\n",
       "        vertical-align: top;\n",
       "    }\n",
       "\n",
       "    .dataframe thead th {\n",
       "        text-align: right;\n",
       "    }\n",
       "</style>\n",
       "<table border=\"1\" class=\"dataframe\">\n",
       "  <thead>\n",
       "    <tr style=\"text-align: right;\">\n",
       "      <th></th>\n",
       "      <th>title</th>\n",
       "      <th>rating</th>\n",
       "    </tr>\n",
       "  </thead>\n",
       "  <tbody>\n",
       "    <tr>\n",
       "      <th>88</th>\n",
       "      <td>Blues Brothers, The (1980)</td>\n",
       "      <td>2.0</td>\n",
       "    </tr>\n",
       "    <tr>\n",
       "      <th>187</th>\n",
       "      <td>James and the Giant Peach (1996)</td>\n",
       "      <td>4.0</td>\n",
       "    </tr>\n",
       "    <tr>\n",
       "      <th>240</th>\n",
       "      <td>Cat People (1982)</td>\n",
       "      <td>2.0</td>\n",
       "    </tr>\n",
       "    <tr>\n",
       "      <th>63</th>\n",
       "      <td>Bound (1996)</td>\n",
       "      <td>5.0</td>\n",
       "    </tr>\n",
       "    <tr>\n",
       "      <th>231</th>\n",
       "      <td>Paths of Glory (1957)</td>\n",
       "      <td>5.0</td>\n",
       "    </tr>\n",
       "    <tr>\n",
       "      <th>260</th>\n",
       "      <td>Kids (1995)</td>\n",
       "      <td>4.0</td>\n",
       "    </tr>\n",
       "    <tr>\n",
       "      <th>36</th>\n",
       "      <td>Lion King, The (1994)</td>\n",
       "      <td>2.0</td>\n",
       "    </tr>\n",
       "    <tr>\n",
       "      <th>178</th>\n",
       "      <td>Blob, The (1958)</td>\n",
       "      <td>4.0</td>\n",
       "    </tr>\n",
       "    <tr>\n",
       "      <th>246</th>\n",
       "      <td>Casino (1995)</td>\n",
       "      <td>5.0</td>\n",
       "    </tr>\n",
       "    <tr>\n",
       "      <th>9</th>\n",
       "      <td>Angels and Insects (1995)</td>\n",
       "      <td>4.0</td>\n",
       "    </tr>\n",
       "    <tr>\n",
       "      <th>251</th>\n",
       "      <td>Corrina, Corrina (1994)</td>\n",
       "      <td>1.0</td>\n",
       "    </tr>\n",
       "    <tr>\n",
       "      <th>11</th>\n",
       "      <td>Taxi Driver (1976)</td>\n",
       "      <td>2.0</td>\n",
       "    </tr>\n",
       "    <tr>\n",
       "      <th>153</th>\n",
       "      <td>Lost Highway (1997)</td>\n",
       "      <td>4.0</td>\n",
       "    </tr>\n",
       "    <tr>\n",
       "      <th>289</th>\n",
       "      <td>Hate (Haine, La) (1995)</td>\n",
       "      <td>3.0</td>\n",
       "    </tr>\n",
       "    <tr>\n",
       "      <th>207</th>\n",
       "      <td>Kama Sutra: A Tale of Love (1996)</td>\n",
       "      <td>3.0</td>\n",
       "    </tr>\n",
       "    <tr>\n",
       "      <th>219</th>\n",
       "      <td>Speed (1994)</td>\n",
       "      <td>2.0</td>\n",
       "    </tr>\n",
       "    <tr>\n",
       "      <th>48</th>\n",
       "      <td>Dances with Wolves (1990)</td>\n",
       "      <td>2.0</td>\n",
       "    </tr>\n",
       "    <tr>\n",
       "      <th>145</th>\n",
       "      <td>Liar Liar (1997)</td>\n",
       "      <td>2.0</td>\n",
       "    </tr>\n",
       "    <tr>\n",
       "      <th>173</th>\n",
       "      <td>Fantasia (1940)</td>\n",
       "      <td>4.0</td>\n",
       "    </tr>\n",
       "    <tr>\n",
       "      <th>134</th>\n",
       "      <td>Grosse Pointe Blank (1997)</td>\n",
       "      <td>4.0</td>\n",
       "    </tr>\n",
       "  </tbody>\n",
       "</table>\n",
       "</div>"
      ],
      "text/plain": [
       "                                 title  rating\n",
       "88          Blues Brothers, The (1980)     2.0\n",
       "187   James and the Giant Peach (1996)     4.0\n",
       "240                  Cat People (1982)     2.0\n",
       "63                        Bound (1996)     5.0\n",
       "231              Paths of Glory (1957)     5.0\n",
       "260                        Kids (1995)     4.0\n",
       "36               Lion King, The (1994)     2.0\n",
       "178                   Blob, The (1958)     4.0\n",
       "246                      Casino (1995)     5.0\n",
       "9            Angels and Insects (1995)     4.0\n",
       "251            Corrina, Corrina (1994)     1.0\n",
       "11                  Taxi Driver (1976)     2.0\n",
       "153                Lost Highway (1997)     4.0\n",
       "289            Hate (Haine, La) (1995)     3.0\n",
       "207  Kama Sutra: A Tale of Love (1996)     3.0\n",
       "219                       Speed (1994)     2.0\n",
       "48           Dances with Wolves (1990)     2.0\n",
       "145                   Liar Liar (1997)     2.0\n",
       "173                    Fantasia (1940)     4.0\n",
       "134         Grosse Pointe Blank (1997)     4.0"
      ]
     },
     "execution_count": 16,
     "metadata": {},
     "output_type": "execute_result"
    }
   ],
   "source": [
    "rated.sample(20)"
   ]
  },
  {
   "cell_type": "code",
   "execution_count": 17,
   "metadata": {},
   "outputs": [
    {
     "data": {
      "text/html": [
       "<div>\n",
       "<style scoped>\n",
       "    .dataframe tbody tr th:only-of-type {\n",
       "        vertical-align: middle;\n",
       "    }\n",
       "\n",
       "    .dataframe tbody tr th {\n",
       "        vertical-align: top;\n",
       "    }\n",
       "\n",
       "    .dataframe thead th {\n",
       "        text-align: right;\n",
       "    }\n",
       "</style>\n",
       "<table border=\"1\" class=\"dataframe\">\n",
       "  <thead>\n",
       "    <tr style=\"text-align: right;\">\n",
       "      <th></th>\n",
       "      <th>title</th>\n",
       "      <th>predicted rating</th>\n",
       "    </tr>\n",
       "  </thead>\n",
       "  <tbody>\n",
       "    <tr>\n",
       "      <th>370</th>\n",
       "      <td>Police Story 4: Project S (Chao ji ji hua) (1993)</td>\n",
       "      <td>1.0</td>\n",
       "    </tr>\n",
       "    <tr>\n",
       "      <th>1264</th>\n",
       "      <td>Vie est belle, La (Life is Rosey) (1987)</td>\n",
       "      <td>1.0</td>\n",
       "    </tr>\n",
       "    <tr>\n",
       "      <th>2</th>\n",
       "      <td>Shanghai Triad (Yao a yao yao dao waipo qiao) ...</td>\n",
       "      <td>4.0</td>\n",
       "    </tr>\n",
       "    <tr>\n",
       "      <th>762</th>\n",
       "      <td>House Arrest (1996)</td>\n",
       "      <td>2.0</td>\n",
       "    </tr>\n",
       "    <tr>\n",
       "      <th>946</th>\n",
       "      <td>For Love or Money (1993)</td>\n",
       "      <td>2.0</td>\n",
       "    </tr>\n",
       "    <tr>\n",
       "      <th>1281</th>\n",
       "      <td>Lashou shentan (1992)</td>\n",
       "      <td>1.0</td>\n",
       "    </tr>\n",
       "    <tr>\n",
       "      <th>453</th>\n",
       "      <td>Barcelona (1994)</td>\n",
       "      <td>4.0</td>\n",
       "    </tr>\n",
       "    <tr>\n",
       "      <th>447</th>\n",
       "      <td>Kicking and Screaming (1995)</td>\n",
       "      <td>2.0</td>\n",
       "    </tr>\n",
       "    <tr>\n",
       "      <th>609</th>\n",
       "      <td>Money Talks (1997)</td>\n",
       "      <td>2.0</td>\n",
       "    </tr>\n",
       "    <tr>\n",
       "      <th>987</th>\n",
       "      <td>Country Life (1994)</td>\n",
       "      <td>1.0</td>\n",
       "    </tr>\n",
       "    <tr>\n",
       "      <th>466</th>\n",
       "      <td>Home for the Holidays (1995)</td>\n",
       "      <td>2.0</td>\n",
       "    </tr>\n",
       "    <tr>\n",
       "      <th>182</th>\n",
       "      <td>Mad City (1997)</td>\n",
       "      <td>1.0</td>\n",
       "    </tr>\n",
       "    <tr>\n",
       "      <th>1112</th>\n",
       "      <td>Next Karate Kid, The (1994)</td>\n",
       "      <td>3.0</td>\n",
       "    </tr>\n",
       "    <tr>\n",
       "      <th>916</th>\n",
       "      <td>Friday (1995)</td>\n",
       "      <td>3.0</td>\n",
       "    </tr>\n",
       "    <tr>\n",
       "      <th>322</th>\n",
       "      <td>Gandhi (1982)</td>\n",
       "      <td>4.0</td>\n",
       "    </tr>\n",
       "    <tr>\n",
       "      <th>1284</th>\n",
       "      <td>Schizopolis (1996)</td>\n",
       "      <td>5.0</td>\n",
       "    </tr>\n",
       "    <tr>\n",
       "      <th>1374</th>\n",
       "      <td>B. Monkey (1998)</td>\n",
       "      <td>3.0</td>\n",
       "    </tr>\n",
       "    <tr>\n",
       "      <th>444</th>\n",
       "      <td>Seven Years in Tibet (1997)</td>\n",
       "      <td>3.0</td>\n",
       "    </tr>\n",
       "    <tr>\n",
       "      <th>1351</th>\n",
       "      <td>Little City (1998)</td>\n",
       "      <td>3.0</td>\n",
       "    </tr>\n",
       "    <tr>\n",
       "      <th>23</th>\n",
       "      <td>I.Q. (1994)</td>\n",
       "      <td>2.0</td>\n",
       "    </tr>\n",
       "  </tbody>\n",
       "</table>\n",
       "</div>"
      ],
      "text/plain": [
       "                                                  title  predicted rating\n",
       "370   Police Story 4: Project S (Chao ji ji hua) (1993)               1.0\n",
       "1264           Vie est belle, La (Life is Rosey) (1987)               1.0\n",
       "2     Shanghai Triad (Yao a yao yao dao waipo qiao) ...               4.0\n",
       "762                                 House Arrest (1996)               2.0\n",
       "946                            For Love or Money (1993)               2.0\n",
       "1281                              Lashou shentan (1992)               1.0\n",
       "453                                    Barcelona (1994)               4.0\n",
       "447                        Kicking and Screaming (1995)               2.0\n",
       "609                                  Money Talks (1997)               2.0\n",
       "987                                 Country Life (1994)               1.0\n",
       "466                        Home for the Holidays (1995)               2.0\n",
       "182                                     Mad City (1997)               1.0\n",
       "1112                        Next Karate Kid, The (1994)               3.0\n",
       "916                                       Friday (1995)               3.0\n",
       "322                                       Gandhi (1982)               4.0\n",
       "1284                                 Schizopolis (1996)               5.0\n",
       "1374                                   B. Monkey (1998)               3.0\n",
       "444                         Seven Years in Tibet (1997)               3.0\n",
       "1351                                 Little City (1998)               3.0\n",
       "23                                          I.Q. (1994)               2.0"
      ]
     },
     "execution_count": 17,
     "metadata": {},
     "output_type": "execute_result"
    }
   ],
   "source": [
    "pred.sample(20)"
   ]
  }
 ],
 "metadata": {
  "kernelspec": {
   "display_name": "Python 3",
   "language": "python",
   "name": "python3"
  },
  "language_info": {
   "codemirror_mode": {
    "name": "ipython",
    "version": 3
   },
   "file_extension": ".py",
   "mimetype": "text/x-python",
   "name": "python",
   "nbconvert_exporter": "python",
   "pygments_lexer": "ipython3",
   "version": "3.6.4"
  }
 },
 "nbformat": 4,
 "nbformat_minor": 2
}
