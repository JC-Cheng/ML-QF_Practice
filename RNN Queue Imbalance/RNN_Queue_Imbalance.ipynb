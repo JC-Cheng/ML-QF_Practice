{
 "cells": [
  {
   "cell_type": "markdown",
   "metadata": {},
   "source": [
    "# RNN Queue Imbalance"
   ]
  },
  {
   "cell_type": "code",
   "execution_count": 1,
   "metadata": {},
   "outputs": [
    {
     "name": "stderr",
     "output_type": "stream",
     "text": [
      "/anaconda3/lib/python3.6/site-packages/h5py/__init__.py:36: FutureWarning: Conversion of the second argument of issubdtype from `float` to `np.floating` is deprecated. In future, it will be treated as `np.float64 == np.dtype(float).type`.\n",
      "  from ._conv import register_converters as _register_converters\n",
      "Using TensorFlow backend.\n"
     ]
    }
   ],
   "source": [
    "import pandas as pd\n",
    "import numpy as np\n",
    "import matplotlib.pyplot as plt\n",
    "from keras.models import Model\n",
    "from keras.layers import RNN, Dense, Input, Dropout, LSTM, Activation\n",
    "\n",
    "from keras import backend as K\n",
    "from rnn_util import *\n",
    "\n",
    "%matplotlib inline"
   ]
  },
  {
   "cell_type": "markdown",
   "metadata": {},
   "source": [
    "# Data & Goal\n",
    "\n",
    "Predict next ($t+\\Delta t$) bid/ask direction by order book status $\\{t - N\\Delta t, t- (N-1)\\Delta t, \\cdots, t-\\Delta t, t \\}$.\n",
    "ONLY 1 trading day, 2 stocks. $\\Delta t = 0.1$ second and here we set $N=20$\n",
    "\n",
    " - Data: level 3 order book volume.\n",
    " - Label: next timestamp's bid/ask direction. {0: down, 1: unchanged, 2: up}"
   ]
  },
  {
   "cell_type": "code",
   "execution_count": 2,
   "metadata": {},
   "outputs": [],
   "source": [
    "path = 'Equity_PRL_lv3.csv'\n",
    "tickers = ['CS', 'TM']\n",
    "n_lags = 20\n",
    "\n",
    "LOB = create_LOB(path, tickers)\n",
    "x, y, ts = prepare_RNN_data(LOB, tickers, n_lags)\n",
    "X_train, Y_train, X_test, Y_test = split_and_suffle(x, y, ts, split_ratio=0.05)"
   ]
  },
  {
   "cell_type": "code",
   "execution_count": 3,
   "metadata": {},
   "outputs": [
    {
     "name": "stdout",
     "output_type": "stream",
     "text": [
      "(44421, 20, 6) (2337, 20, 6)\n",
      "[(44421, 3), (44421, 3)] [(2337, 3), (2337, 3)]\n"
     ]
    }
   ],
   "source": [
    "print(X_train.shape, X_test.shape)\n",
    "print([y.shape for y in Y_train], [y.shape for y in Y_test])"
   ]
  },
  {
   "cell_type": "markdown",
   "metadata": {},
   "source": [
    "# RNN model\n",
    "\n",
    " - RNN: 2 layers LSTM/dropout\n",
    " - Loss Funtion: categorical crossentropy loss\n",
    " - Metric: Average F1 score of each category"
   ]
  },
  {
   "cell_type": "code",
   "execution_count": 4,
   "metadata": {},
   "outputs": [],
   "source": [
    "def LOB_RNN_model(n_depth, n_lag, k=16, drop_prob=0.2):\n",
    "    \n",
    "    lob = Input((n_lag, n_depth), dtype='float32', name='LOB')\n",
    "    X = LSTM(k, return_sequences=True, name='LSTM_1')(lob)\n",
    "    X = Dropout(drop_prob, name='Dropout_1')(X)\n",
    "    X = LSTM(k, return_sequences=False, name='LSTM_2')(X)\n",
    "    X = Dropout(drop_prob, name='Dropout_2')(X)\n",
    "    \n",
    "    out_b = Dense(3, activation='softmax', name='bid')(X)\n",
    "    out_a = Dense(3, activation='softmax', name='ask')(X)\n",
    "    \n",
    "    model = Model(inputs=lob, outputs=[out_b, out_a])\n",
    "    \n",
    "    return model"
   ]
  },
  {
   "cell_type": "code",
   "execution_count": 5,
   "metadata": {},
   "outputs": [],
   "source": [
    "# https://keras.io/metrics/\n",
    "\n",
    "def f1(y_true, y_pred):\n",
    "    \n",
    "    # one v.s. all, average F1 score\n",
    "    \n",
    "    def recall(y_true, y_pred):\n",
    "        \"\"\"Recall metric.\n",
    "\n",
    "        Only computes a batch-wise average of recall.\n",
    "\n",
    "        Computes the recall, a metric for multi-label classification of\n",
    "        how many relevant items are selected.\n",
    "        \"\"\"\n",
    "        true_positives = K.sum(K.round(K.clip(y_true * y_pred, 0, 1)), axis=0)\n",
    "        possible_positives = K.sum(K.round(K.clip(y_true, 0, 1)), axis=0)\n",
    "        recall = true_positives / (possible_positives + K.epsilon())\n",
    "        return recall\n",
    "\n",
    "    def precision(y_true, y_pred):\n",
    "        \"\"\"Precision metric.\n",
    "\n",
    "        Only computes a batch-wise average of precision.\n",
    "\n",
    "        Computes the precision, a metric for multi-label classification of\n",
    "        how many selected items are relevant.\n",
    "        \"\"\"\n",
    "        true_positives = K.sum(K.round(K.clip(y_true * y_pred, 0, 1)), axis=0)\n",
    "        predicted_positives = K.sum(K.round(K.clip(y_pred, 0, 1)), axis=0)\n",
    "        precision = true_positives / (predicted_positives + K.epsilon())\n",
    "        return precision\n",
    "    \n",
    "    precision = precision(y_true, y_pred)\n",
    "    recall = recall(y_true, y_pred)\n",
    "    mean_F1 = K.mean(2*((precision*recall)/(precision+recall+K.epsilon())))\n",
    "\n",
    "    return mean_F1"
   ]
  },
  {
   "cell_type": "code",
   "execution_count": 6,
   "metadata": {},
   "outputs": [],
   "source": [
    "model = LOB_RNN_model(6, n_lags)\n",
    "model.compile(loss='categorical_crossentropy', optimizer='adam', metrics=[f1])"
   ]
  },
  {
   "cell_type": "code",
   "execution_count": 7,
   "metadata": {},
   "outputs": [
    {
     "name": "stdout",
     "output_type": "stream",
     "text": [
      "__________________________________________________________________________________________________\n",
      "Layer (type)                    Output Shape         Param #     Connected to                     \n",
      "==================================================================================================\n",
      "LOB (InputLayer)                (None, 20, 6)        0                                            \n",
      "__________________________________________________________________________________________________\n",
      "LSTM_1 (LSTM)                   (None, 20, 16)       1472        LOB[0][0]                        \n",
      "__________________________________________________________________________________________________\n",
      "Dropout_1 (Dropout)             (None, 20, 16)       0           LSTM_1[0][0]                     \n",
      "__________________________________________________________________________________________________\n",
      "LSTM_2 (LSTM)                   (None, 16)           2112        Dropout_1[0][0]                  \n",
      "__________________________________________________________________________________________________\n",
      "Dropout_2 (Dropout)             (None, 16)           0           LSTM_2[0][0]                     \n",
      "__________________________________________________________________________________________________\n",
      "bid (Dense)                     (None, 3)            51          Dropout_2[0][0]                  \n",
      "__________________________________________________________________________________________________\n",
      "ask (Dense)                     (None, 3)            51          Dropout_2[0][0]                  \n",
      "==================================================================================================\n",
      "Total params: 3,686\n",
      "Trainable params: 3,686\n",
      "Non-trainable params: 0\n",
      "__________________________________________________________________________________________________\n"
     ]
    }
   ],
   "source": [
    "model.summary()"
   ]
  },
  {
   "cell_type": "code",
   "execution_count": 8,
   "metadata": {},
   "outputs": [
    {
     "name": "stdout",
     "output_type": "stream",
     "text": [
      "BID:\n",
      "Training set: [0.01789694 0.96251773 0.01958533]\n",
      "Testing set: [0.01711596 0.96234489 0.02053915]\n",
      "ASK:\n",
      "Training set: [0.01508296 0.97014925 0.01476779]\n",
      "Testing set: [0.02053915 0.96662388 0.01283697]\n"
     ]
    }
   ],
   "source": [
    "print('BID:')\n",
    "print('Training set:', Y_train[0].sum(axis=0) / Y_train[0].shape[0])\n",
    "print('Testing set:', Y_test[0].sum(axis=0) / Y_test[0].shape[0])\n",
    "\n",
    "print('ASK:')\n",
    "print('Training set:', Y_train[1].sum(axis=0) / Y_train[1].shape[0])\n",
    "print('Testing set:', Y_test[1].sum(axis=0) / Y_test[1].shape[0])"
   ]
  },
  {
   "cell_type": "code",
   "execution_count": 9,
   "metadata": {},
   "outputs": [],
   "source": [
    "History = model.fit(X_train, Y_train, epochs=100, validation_data=(X_test, Y_test), batch_size=64, verbose=0)"
   ]
  },
  {
   "cell_type": "code",
   "execution_count": 13,
   "metadata": {},
   "outputs": [
    {
     "data": {
      "text/plain": [
       "<matplotlib.legend.Legend at 0x181b41d2e8>"
      ]
     },
     "execution_count": 13,
     "metadata": {},
     "output_type": "execute_result"
    },
    {
     "data": {
      "image/png": "[encoded data removed]",
      "text/plain": [
       "<matplotlib.figure.Figure at 0x181ba072e8>"
      ]
     },
     "metadata": {},
     "output_type": "display_data"
    }
   ],
   "source": [
    "plt.plot(History.history['loss'])\n",
    "plt.plot(History.history['val_loss'])\n",
    "plt.title('model loss')\n",
    "plt.ylabel('loss')\n",
    "plt.xlabel('epoch')\n",
    "plt.legend(['train', 'test'], loc='upper left')"
   ]
  },
  {
   "cell_type": "code",
   "execution_count": 14,
   "metadata": {},
   "outputs": [
    {
     "data": {
      "text/plain": [
       "<matplotlib.legend.Legend at 0x181ba9a8d0>"
      ]
     },
     "execution_count": 14,
     "metadata": {},
     "output_type": "execute_result"
    },
    {
     "data": {
      "image/png": "[encoded data removed]",
      "text/plain": [
       "<matplotlib.figure.Figure at 0x181ba53a20>"
      ]
     },
     "metadata": {},
     "output_type": "display_data"
    }
   ],
   "source": [
    "plt.plot(History.history['ask_f1'])\n",
    "plt.plot(History.history['val_ask_f1'])\n",
    "plt.title('model ask f1')\n",
    "plt.ylabel('ask f1')\n",
    "plt.xlabel('epoch')\n",
    "plt.legend(['train', 'test'], loc='upper left')"
   ]
  },
  {
   "cell_type": "code",
   "execution_count": 15,
   "metadata": {},
   "outputs": [
    {
     "data": {
      "text/plain": [
       "<matplotlib.legend.Legend at 0x181bb79208>"
      ]
     },
     "execution_count": 15,
     "metadata": {},
     "output_type": "execute_result"
    },
    {
     "data": {
      "image/png": "[encoded data removed]",
      "text/plain": [
       "<matplotlib.figure.Figure at 0x181ba76c50>"
      ]
     },
     "metadata": {},
     "output_type": "display_data"
    }
   ],
   "source": [
    "plt.plot(History.history['bid_f1'])\n",
    "plt.plot(History.history['val_bid_f1'])\n",
    "plt.title('model bid f1')\n",
    "plt.ylabel('bid f1')\n",
    "plt.xlabel('epoch')\n",
    "plt.legend(['train', 'test'], loc='upper left')"
   ]
  },
  {
   "cell_type": "markdown",
   "metadata": {},
   "source": [
    "# Remark\n",
    "\n",
    "Obviously, the model is underfitted and most of the predition just simply gives a \"unchanged\" for the next timestamp movement. However, due to access reason, we cannot acquire more data at this stage.\n",
    "\n",
    "To build a more practical model, we may need more stock/trading day/adequate frequency, and also we can train different models with large tick and small tick stocks. What this notebook demostrates is not the result - but the potential use of RNN (or LSTM), combining the limit order book status, to predict the next step price movement, which should be able to improve high frequency trading strategy."
   ]
  }
 ],
 "metadata": {
  "kernelspec": {
   "display_name": "Python 3",
   "language": "python",
   "name": "python3"
  },
  "language_info": {
   "codemirror_mode": {
    "name": "ipython",
    "version": 3
   },
   "file_extension": ".py",
   "mimetype": "text/x-python",
   "name": "python",
   "nbconvert_exporter": "python",
   "pygments_lexer": "ipython3",
   "version": "3.6.4"
  }
 },
 "nbformat": 4,
 "nbformat_minor": 2
}
