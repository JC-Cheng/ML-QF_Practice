{
 "cells": [
  {
   "cell_type": "code",
   "execution_count": 1,
   "metadata": {},
   "outputs": [
    {
     "name": "stderr",
     "output_type": "stream",
     "text": [
      "/anaconda3/lib/python3.6/site-packages/h5py/__init__.py:36: FutureWarning: Conversion of the second argument of issubdtype from `float` to `np.floating` is deprecated. In future, it will be treated as `np.float64 == np.dtype(float).type`.\n",
      "  from ._conv import register_converters as _register_converters\n",
      "Using TensorFlow backend.\n"
     ]
    }
   ],
   "source": [
    "import pandas as pd\n",
    "import numpy as np\n",
    "import matplotlib.pyplot as plt\n",
    "from keras.models import Model\n",
    "from keras.layers import RNN, Dense, Input, Dropout, LSTM, Activation\n",
    "\n",
    "from keras import backend as K\n",
    "from rnn_util import *\n",
    "\n",
    "%matplotlib inline"
   ]
  },
  {
   "cell_type": "code",
   "execution_count": 2,
   "metadata": {},
   "outputs": [],
   "source": [
    "LOB = create_LOB()\n",
    "x, y, ts = prepare_RNN_data(LOB, ['CS', 'TM'])\n",
    "X_train, Y_train, X_test, Y_test = split_and_suffle(x, y, ts, 0.05)"
   ]
  },
  {
   "cell_type": "code",
   "execution_count": 3,
   "metadata": {},
   "outputs": [
    {
     "name": "stdout",
     "output_type": "stream",
     "text": [
      "(44447, 6, 6) (2339, 6, 6)\n",
      "[(44447, 3), (44447, 3)] [(2339, 3), (2339, 3)]\n"
     ]
    }
   ],
   "source": [
    "print(X_train.shape, X_test.shape)\n",
    "print([y.shape for y in Y_train], [y.shape for y in Y_test])"
   ]
  },
  {
   "cell_type": "code",
   "execution_count": 4,
   "metadata": {},
   "outputs": [],
   "source": [
    "def LOB_RNN_model(n_depth, n_lag):\n",
    "    \n",
    "    lob = Input((n_lag, n_depth), dtype='float32', name='LOB')\n",
    "    X = LSTM(16, return_sequences=True, name='LSTM_1')(lob)\n",
    "    X = Dropout(0.5, name='Dropout_1')(X)\n",
    "    X = LSTM(16, return_sequences=False, name='LSTM_2')(X)\n",
    "    X = Dropout(0.5, name='Dropout_2')(X)\n",
    "    \n",
    "    out_b = Dense(3, activation='softmax', name='bid')(X)\n",
    "    out_a = Dense(3, activation='softmax', name='ask')(X)\n",
    "    \n",
    "    model = Model(inputs=lob, outputs=[out_b, out_a])\n",
    "    \n",
    "    return model"
   ]
  },
  {
   "cell_type": "code",
   "execution_count": 5,
   "metadata": {},
   "outputs": [],
   "source": [
    "# https://keras.io/metrics/\n",
    "\n",
    "def f1(y_true, y_pred):\n",
    "    def recall(y_true, y_pred):\n",
    "        \"\"\"Recall metric.\n",
    "\n",
    "        Only computes a batch-wise average of recall.\n",
    "\n",
    "        Computes the recall, a metric for multi-label classification of\n",
    "        how many relevant items are selected.\n",
    "        \"\"\"\n",
    "        true_positives = K.sum(K.round(K.clip(y_true * y_pred, 0, 1)))\n",
    "        possible_positives = K.sum(K.round(K.clip(y_true, 0, 1)))\n",
    "        recall = true_positives / (possible_positives + K.epsilon())\n",
    "        return recall\n",
    "\n",
    "    def precision(y_true, y_pred):\n",
    "        \"\"\"Precision metric.\n",
    "\n",
    "        Only computes a batch-wise average of precision.\n",
    "\n",
    "        Computes the precision, a metric for multi-label classification of\n",
    "        how many selected items are relevant.\n",
    "        \"\"\"\n",
    "        true_positives = K.sum(K.round(K.clip(y_true * y_pred, 0, 1)))\n",
    "        predicted_positives = K.sum(K.round(K.clip(y_pred, 0, 1)))\n",
    "        precision = true_positives / (predicted_positives + K.epsilon())\n",
    "        return precision\n",
    "    precision = precision(y_true, y_pred)\n",
    "    recall = recall(y_true, y_pred)\n",
    "    return 2*((precision*recall)/(precision+recall+K.epsilon()))"
   ]
  },
  {
   "cell_type": "code",
   "execution_count": 6,
   "metadata": {},
   "outputs": [],
   "source": [
    "model = LOB_RNN_model(6, 6)\n",
    "model.compile(loss='categorical_crossentropy', optimizer='adam', metrics=[f1, 'categorical_accuracy'])"
   ]
  },
  {
   "cell_type": "code",
   "execution_count": 7,
   "metadata": {},
   "outputs": [
    {
     "name": "stdout",
     "output_type": "stream",
     "text": [
      "__________________________________________________________________________________________________\n",
      "Layer (type)                    Output Shape         Param #     Connected to                     \n",
      "==================================================================================================\n",
      "LOB (InputLayer)                (None, 6, 6)         0                                            \n",
      "__________________________________________________________________________________________________\n",
      "LSTM_1 (LSTM)                   (None, 6, 16)        1472        LOB[0][0]                        \n",
      "__________________________________________________________________________________________________\n",
      "Dropout_1 (Dropout)             (None, 6, 16)        0           LSTM_1[0][0]                     \n",
      "__________________________________________________________________________________________________\n",
      "LSTM_2 (LSTM)                   (None, 16)           2112        Dropout_1[0][0]                  \n",
      "__________________________________________________________________________________________________\n",
      "Dropout_2 (Dropout)             (None, 16)           0           LSTM_2[0][0]                     \n",
      "__________________________________________________________________________________________________\n",
      "bid (Dense)                     (None, 3)            51          Dropout_2[0][0]                  \n",
      "__________________________________________________________________________________________________\n",
      "ask (Dense)                     (None, 3)            51          Dropout_2[0][0]                  \n",
      "==================================================================================================\n",
      "Total params: 3,686\n",
      "Trainable params: 3,686\n",
      "Non-trainable params: 0\n",
      "__________________________________________________________________________________________________\n"
     ]
    }
   ],
   "source": [
    "model.summary()"
   ]
  },
  {
   "cell_type": "code",
   "execution_count": 8,
   "metadata": {},
   "outputs": [
    {
     "data": {
      "text/plain": [
       "(array([0.02244309, 0.95644972, 0.02110719]),\n",
       " array([0.01478341, 0.9665503 , 0.01866629]))"
      ]
     },
     "execution_count": 8,
     "metadata": {},
     "output_type": "execute_result"
    }
   ],
   "source": [
    "y[0][:18714,:].sum(axis=0) / y[0][:18714,:].shape[0], y[0][18714:,:].sum(axis=0) / y[0][18714:,:].shape[0]"
   ]
  },
  {
   "cell_type": "code",
   "execution_count": 9,
   "metadata": {},
   "outputs": [
    {
     "name": "stdout",
     "output_type": "stream",
     "text": [
      "Train on 44447 samples, validate on 2339 samples\n",
      "Epoch 1/2\n",
      "44447/44447 [==============================] - 13s 300us/step - loss: 0.4526 - bid_loss: 0.2432 - ask_loss: 0.2094 - bid_f1: 0.9426 - bid_categorical_accuracy: 0.9524 - ask_f1: 0.9532 - ask_categorical_accuracy: 0.9649 - val_loss: 0.3449 - val_bid_loss: 0.1940 - val_ask_loss: 0.1509 - val_bid_f1: 0.9611 - val_bid_categorical_accuracy: 0.9611 - val_ask_f1: 0.9714 - val_ask_categorical_accuracy: 0.9714\n",
      "Epoch 2/2\n",
      "44447/44447 [==============================] - 12s 274us/step - loss: 0.3739 - bid_loss: 0.2028 - ask_loss: 0.1711 - bid_f1: 0.9626 - bid_categorical_accuracy: 0.9626 - ask_f1: 0.9699 - ask_categorical_accuracy: 0.9699 - val_loss: 0.3433 - val_bid_loss: 0.1928 - val_ask_loss: 0.1504 - val_bid_f1: 0.9611 - val_bid_categorical_accuracy: 0.9611 - val_ask_f1: 0.9714 - val_ask_categorical_accuracy: 0.9714\n"
     ]
    },
    {
     "data": {
      "text/plain": [
       "<keras.callbacks.History at 0x116ad0cf8>"
      ]
     },
     "execution_count": 9,
     "metadata": {},
     "output_type": "execute_result"
    }
   ],
   "source": [
    "model.fit(X_train, Y_train, epochs=2, validation_data=(X_test, Y_test), \n",
    "          batch_size=32)"
   ]
  },
  {
   "cell_type": "code",
   "execution_count": null,
   "metadata": {
    "collapsed": true
   },
   "outputs": [],
   "source": []
  }
 ],
 "metadata": {
  "kernelspec": {
   "display_name": "Python 3",
   "language": "python",
   "name": "python3"
  },
  "language_info": {
   "codemirror_mode": {
    "name": "ipython",
    "version": 3
   },
   "file_extension": ".py",
   "mimetype": "text/x-python",
   "name": "python",
   "nbconvert_exporter": "python",
   "pygments_lexer": "ipython3",
   "version": "3.6.4"
  }
 },
 "nbformat": 4,
 "nbformat_minor": 2
}
